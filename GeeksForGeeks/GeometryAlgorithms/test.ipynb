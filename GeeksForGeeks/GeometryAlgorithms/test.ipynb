{
 "cells": [
  {
   "cell_type": "code",
   "execution_count": 54,
   "id": "2ecc7b65",
   "metadata": {},
   "outputs": [],
   "source": [
    "class Tensor():\n",
    "    def __init__(self, ip_array):\n",
    "        \n",
    "        self.array = ip_array \n",
    "        \n",
    "                \n",
    "        \n",
    "    def add(self, array2):\n",
    "        output = []\n",
    "        \n",
    "        \n",
    "        if len(self.array) <= 1:\n",
    "            \n",
    "            for i in range(len(array2)):\n",
    "                saved = self.array[i] + array2[i]\n",
    "                \n",
    "                output.append(saved)\n",
    "        saved = []\n",
    "        if len(self.array) == 2:\n",
    "            for i in range(len(array2)):\n",
    "                for j in range(len(array2[0])):\n",
    "                    saved.append(self.array[i][j] + array2[i][j])\n",
    "                    \n",
    "                    # print(saved)\n",
    "                    \n",
    "                    output.append(saved)\n",
    "                \n",
    "                    \n",
    "        return output\n",
    "        \n",
    "    \n",
    "        \n",
    "        \n",
    "    def mult(self):\n",
    "        pass\n",
    "        \n",
    "        \n",
    "    def sub(self):\n",
    "        pass\n",
    "        \n",
    "        "
   ]
  },
  {
   "cell_type": "code",
   "execution_count": 56,
   "id": "9baa1389",
   "metadata": {},
   "outputs": [
    {
     "data": {
      "text/plain": [
       "[[2, 4, 6, 2, 4, 6],\n",
       " [2, 4, 6, 2, 4, 6],\n",
       " [2, 4, 6, 2, 4, 6],\n",
       " [2, 4, 6, 2, 4, 6],\n",
       " [2, 4, 6, 2, 4, 6],\n",
       " [2, 4, 6, 2, 4, 6]]"
      ]
     },
     "execution_count": 56,
     "metadata": {},
     "output_type": "execute_result"
    }
   ],
   "source": [
    "ip_array = [[1, 2, 3], [1, 2, 3]]\n",
    "\n",
    "ip_tensor1 = Tensor(ip_array)\n",
    "\n",
    "ip_tensor2 = Tensor(ip_array)\n",
    "\n",
    "# t1 = ip_tensor.add(a = ip_array, b = ip_array)\n",
    "# t1\n",
    "added = ip_tensor1.add(ip_array)\n",
    "added\n"
   ]
  },
  {
   "cell_type": "code",
   "execution_count": 45,
   "id": "f0c90ace",
   "metadata": {},
   "outputs": [
    {
     "data": {
      "text/plain": [
       "6"
      ]
     },
     "execution_count": 45,
     "metadata": {},
     "output_type": "execute_result"
    }
   ],
   "source": [
    "len(added)"
   ]
  },
  {
   "cell_type": "code",
   "execution_count": null,
   "id": "f73980dc",
   "metadata": {},
   "outputs": [],
   "source": []
  },
  {
   "cell_type": "code",
   "execution_count": 1,
   "id": "c4de72c2",
   "metadata": {},
   "outputs": [
    {
     "data": {
      "text/plain": [
       "tensor([3, 6, 9])"
      ]
     },
     "execution_count": 1,
     "metadata": {},
     "output_type": "execute_result"
    }
   ],
   "source": [
    "import torch\n",
    "\n",
    "ip_array = [1, 2, 3]\n",
    "mask = [2, 4, 6]\n",
    "\n",
    "t1 = torch.tensor(ip_array) \n",
    "\n",
    "t2 = torch.tensor(mask)\n",
    "\n",
    "t3 = t1+ t2\n",
    "\n",
    "t3"
   ]
  },
  {
   "cell_type": "code",
   "execution_count": null,
   "id": "8666aafc",
   "metadata": {},
   "outputs": [
    {
     "name": "stdout",
     "output_type": "stream",
     "text": [
      "{'weight': 1.0}\n"
     ]
    }
   ],
   "source": [
    "dict1 = {'brand': \"Tesla\", 'CEO': \"Elon\"}\n",
    "\n",
    "dict2 = {'brand': \"SpaceX\", 'CEO': \"Elon\"}\n",
    "\n",
    "mapping = {}\n",
    "\n",
    "# for key, value in dict1\n",
    "\n",
    "if dict1['CEO'] == dict2['CEO']:\n",
    "   weight = 1.0\n",
    "   \n",
    "   mapping['relation'] = \n",
    "   \n",
    "   mapping['weight'] = weight\n",
    "   \n",
    "   \n",
    "   print(mapping)\n",
    "   \n",
    "   \n",
    "   \n",
    "\n",
    "\n"
   ]
  },
  {
   "cell_type": "code",
   "execution_count": null,
   "id": "a16ebe2f",
   "metadata": {},
   "outputs": [],
   "source": [
    "class Graph():\n",
    "    def __init__(self, city_id1, city_id2, distance):\n",
    "        \n",
    "         self.city1 = city_id1\n",
    "         self.city2 = city_id2\n",
    "         \n",
    "         self.distance = distance\n",
    "         \n",
    "    def len():\n",
    "        \n",
    "        \n",
    "        \n",
    "         \n",
    "    \n",
    "    def mapping(self):\n",
    "        \n",
    "        maps = {}\n",
    "        \n",
    "        \n",
    "        "
   ]
  },
  {
   "cell_type": "code",
   "execution_count": null,
   "id": "f3d2f2e2",
   "metadata": {},
   "outputs": [],
   "source": [
    "cities = {}\n",
    "\n",
    "graph = Graph(city_id1=1, city_id2=5, distance=70)"
   ]
  }
 ],
 "metadata": {
  "kernelspec": {
   "display_name": "torch_2x",
   "language": "python",
   "name": "python3"
  },
  "language_info": {
   "codemirror_mode": {
    "name": "ipython",
    "version": 3
   },
   "file_extension": ".py",
   "mimetype": "text/x-python",
   "name": "python",
   "nbconvert_exporter": "python",
   "pygments_lexer": "ipython3",
   "version": "3.11.11"
  }
 },
 "nbformat": 4,
 "nbformat_minor": 5
}
